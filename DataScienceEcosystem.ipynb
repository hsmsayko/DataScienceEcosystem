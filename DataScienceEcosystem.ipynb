{
 "cells": [
  {
   "cell_type": "markdown",
   "id": "86914a55-214e-433d-b4c3-b9ad130f7153",
   "metadata": {},
   "source": [
    "# Data Science Tools and Ecosystem"
   ]
  },
  {
   "cell_type": "markdown",
   "id": "b8a6c176-3e01-431d-a7a4-4ce75f8a0ab3",
   "metadata": {},
   "source": [
    "In this notebook, Data Science Tools and Ecosystem will be summarized and explained."
   ]
  },
  {
   "cell_type": "markdown",
   "id": "90955b41-94d7-42c9-b964-3c666aaa66b0",
   "metadata": {},
   "source": [
    "In today's world, there are a lot of data science languages that are currently being used. Some of the most used ones are:\n",
    "1. Python\n",
    "2. R\n",
    "3. SQL"
   ]
  },
  {
   "cell_type": "markdown",
   "id": "9b233df2-3928-4451-acde-7c04706593c1",
   "metadata": {},
   "source": [
    "There are also many libraries commonly used by data scientists. These include:\n",
    "1. Numpy\n",
    "2. Pandas\n",
    "3. Matplotlib"
   ]
  },
  {
   "cell_type": "markdown",
   "id": "f291efab-4a32-45f2-9ec1-55f36525c8ca",
   "metadata": {},
   "source": [
    "Data Science Tools\n",
    "\n",
    "\n",
    " |Data Science Tools|\n",
    " |-----------|\n",
    " |Jupyter Notebooks |\n",
    " | Pytorch          |\n",
    " |Apache Spark\t   |\n"
   ]
  },
  {
   "cell_type": "markdown",
   "id": "05a63940-6273-45c5-a1bc-cd93860e7160",
   "metadata": {},
   "source": [
    "### Below are a few examples of evaluating arithmetic expressions in Python"
   ]
  },
  {
   "cell_type": "code",
   "execution_count": 7,
   "id": "7834b60e-525f-4b35-8213-5d140cdc7284",
   "metadata": {},
   "outputs": [
    {
     "data": {
      "text/plain": [
       "17"
      ]
     },
     "execution_count": 7,
     "metadata": {},
     "output_type": "execute_result"
    }
   ],
   "source": [
    "#  This a simple arithmetic expression to mutiply then add integers\n",
    "(3*4)+5"
   ]
  },
  {
   "cell_type": "code",
   "execution_count": 11,
   "id": "5ae1b366-e3a9-4a8d-bf9d-2e5fe1f8c510",
   "metadata": {},
   "outputs": [
    {
     "name": "stdout",
     "output_type": "stream",
     "text": [
      "3.3333333333333335\n"
     ]
    }
   ],
   "source": [
    "# This will convert 200 minutes to hours by diving by 60\n",
    "minutes = 200\n",
    "hours = minutes / 60\n",
    "print(hours)"
   ]
  },
  {
   "cell_type": "markdown",
   "id": "0b76a5ff-da98-4b20-ab53-3e37d205a886",
   "metadata": {},
   "source": [
    "## Author :\n",
    "Ata Uzun"
   ]
  },
  {
   "cell_type": "code",
   "execution_count": null,
   "id": "266463d0-635c-43fb-b7c5-19130d1f6d1f",
   "metadata": {},
   "outputs": [],
   "source": []
  }
 ],
 "metadata": {
  "kernelspec": {
   "display_name": "Python 3 (ipykernel)",
   "language": "python",
   "name": "python3"
  },
  "language_info": {
   "codemirror_mode": {
    "name": "ipython",
    "version": 3
   },
   "file_extension": ".py",
   "mimetype": "text/x-python",
   "name": "python",
   "nbconvert_exporter": "python",
   "pygments_lexer": "ipython3",
   "version": "3.10.8"
  }
 },
 "nbformat": 4,
 "nbformat_minor": 5
}
